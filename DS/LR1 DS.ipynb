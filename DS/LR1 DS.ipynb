{
 "cells": [
  {
   "cell_type": "markdown",
   "metadata": {},
   "source": [
    "# Лабораторная работа 1: Введение в Data Science\n",
    "\n",
    "**Дисциплина:** Основы Data Science  \n",
    "**Продолжительность:** 90 минут  \n",
    "**Цель:** Познакомиться с основами Data Science и библиотекой Pandas\n",
    "\n",
    "## Цели:\n",
    "- Понимать жизненный цикл проекта Data Science\n",
    "- Работать с основными структурами данных в Pandas\n",
    "- Выполнять базовые операции с данными\n",
    "- Формулировать простые гипотезы на основе данных\n",
    "- Создавать простые визуализации\n",
    "\n",
    "## Необходимые библиотеки"
   ]
  },
  {
   "cell_type": "code",
   "execution_count": null,
   "metadata": {},
   "outputs": [],
   "source": [
    "# Импорт необходимых библиотек\n",
    "import pandas as pd\n",
    "import matplotlib.pyplot as plt\n",
    "import numpy as np\n",
    "\n",
    "# Настройка отображения\n",
    "pd.set_option('display.max_columns', None)\n",
    "plt.style.use('default')\n",
    "\n",
    "print(\"Библиотеки успешно импортированы!\")"
   ]
  },
  {
   "cell_type": "markdown",
   "metadata": {},
   "source": [
    "## Задание 1: Загрузка и первичный анализ данных\n",
    "\n",
    "В этом задании мы будем работать с классическим датасетом \"Титаник\", который содержит информацию о пассажирах знаменитого корабля.\n",
    "\n",
    "### 1.1 Загрузите датасет"
   ]
  },
  {
   "cell_type": "code",
   "execution_count": null,
   "metadata": {},
   "outputs": [],
   "source": [
    "# Загрузка датасета Titanic\n",
    "df = pd.read_csv('titanic.csv')\n",
    "\n",
    "print(\"Датасет успешно загружен!\")\n",
    "print(f\"Размер датасета: {df.shape}\")"
   ]
  },
  {
   "cell_type": "markdown",
   "metadata": {},
   "source": [
    "### 1.2 Изучите структуру данных"
   ]
  },
  {
   "cell_type": "code",
   "execution_count": null,
   "metadata": {},
   "outputs": [],
   "source": [
    "# Посмотрите на первые 5 строк\n",
    "print(\"Первые 5 строк датасета:\")\n",
    "df.head()"
   ]
  },
  {
   "cell_type": "code",
   "execution_count": null,
   "metadata": {},
   "outputs": [],
   "source": [
    "# Посмотрите на последние 5 строк\n",
    "print(\"Последние 5 строк датасета:\")\n",
    "df.tail()"
   ]
  },
  {
   "cell_type": "code",
   "execution_count": null,
   "metadata": {},
   "outputs": [],
   "source": [
    "# Получите общую информацию о датасете\n",
    "print(\"Общая информация о датасете:\")\n",
    "df.info()"
   ]
  },
  {
   "cell_type": "code",
   "execution_count": null,
   "metadata": {},
   "outputs": [],
   "source": [
    "# Получите описательную статистику\n",
    "print(\"Описательная статистика:\")\n",
    "df.describe()"
   ]
  },
  {
   "cell_type": "markdown",
   "metadata": {},
   "source": [
    "### Вопросы:\n",
    "1. Сколько строк и столбцов в датасете?\n",
    "2. Какие типы данных представлены?\n",
    "3. Есть ли пропущенные значения?\n",
    "4. Что означает каждый столбец?\n",
    "\n",
    "**Ваши ответы:**\n",
    "1. 891 строка и 12 столбцов \n",
    "2. float64(2), int64(5), object(5)\n",
    "3. да, age cabin, embarked\n",
    "4. PassengerId - уникальный идентификатор пассажира\n",
    "Survived - выжил (1) или не выжил (0) - целевая переменная\n",
    "Pclass - класс билета (1-й, 2-й, 3-й класс)\n",
    "Name - имя пассажира\n",
    "Sex - пол (male/female)\n",
    "Age - возраст\n",
    "SibSp - количество братьев/сестер/супругов на борту\n",
    "Parch - количество родителей/детей на борту\n",
    "Ticket - номер билета\n",
    "Fare - стоимость билета\n",
    "Cabin - номер каюты\n",
    "Embarked - порт посадки"
   ]
  },
  {
   "cell_type": "markdown",
   "metadata": {},
   "source": [
    "## Задание 2: Работа с данными и фильтрация\n",
    "\n",
    "### 2.1 Выбор столбцов"
   ]
  },
  {
   "cell_type": "code",
   "execution_count": null,
   "metadata": {},
   "outputs": [],
   "source": [
    "# Выберите один столбец (например, 'Age')\n",
    "ages = df['Age']\n",
    "print(\"Первые 10 значений возраста:\")\n",
    "print(ages.head(10))\n",
    "print(f\"Тип данных: {type(ages)}\")"
   ]
  },
  {
   "cell_type": "code",
   "execution_count": null,
   "metadata": {},
   "outputs": [],
   "source": [
    "# Выберите несколько столбцов\n",
    "basic_info = df[['Name', 'Sex', 'Age', 'Survived']]\n",
    "print(\"Базовая информация о пассажирах:\")\n",
    "basic_info.head()"
   ]
  },
  {
   "cell_type": "markdown",
   "metadata": {},
   "source": [
    "### 2.2 Фильтрация данных"
   ]
  },
  {
   "cell_type": "code",
   "execution_count": null,
   "metadata": {},
   "outputs": [],
   "source": [
    "# Отфильтруйте данные по одному условию (например, только женщины)\n",
    "women = df[df['Sex'] == 'female']\n",
    "print(f\"Количество женщин на борту: {len(women)}\")\n",
    "women.head()"
   ]
  },
  {
   "cell_type": "code",
   "execution_count": null,
   "metadata": {},
   "outputs": [],
   "source": [
    "# Отфильтруйте данные по нескольким условиям (например, выжившие женщины)\n",
    "survived_women = df[(df['Sex'] == 'female') & (df['Survived'] == 1)]\n",
    "print(f\"Количество выживших женщин: {len(survived_women)}\")\n",
    "survived_women.head()"
   ]
  },
  {
   "cell_type": "code",
   "execution_count": null,
   "metadata": {},
   "outputs": [],
   "source": [
    "# Попробуйте создать свои фильтры\n",
    "# Например, пассажиры первого класса старше 30 лет\n",
    "first_class_adults = df[(df['Pclass'] == 1) & (df['Age'] > 30)]\n",
    "print(f\"Пассажиры первого класса старше 30 лет: {len(first_class_adults)}\")\n",
    "first_class_adults[['Name', 'Age', 'Pclass', 'Survived']].head()"
   ]
  },
  {
   "cell_type": "markdown",
   "metadata": {},
   "source": [
    "## Задание 3: Формулирование гипотез и анализ\n",
    "\n",
    "### 3.1 Базовая статистика"
   ]
  },
  {
   "cell_type": "code",
   "execution_count": null,
   "metadata": {},
   "outputs": [],
   "source": [
    "# Посчитайте средний возраст пассажиров\n",
    "average_age = df['Age'].mean()\n",
    "print(f\"Средний возраст пассажиров: {average_age:.2f} лет\")\n",
    "\n",
    "# Посчитайте медианный возраст\n",
    "median_age = df['Age'].median()\n",
    "print(f\"Медианный возраст пассажиров: {median_age:.2f} лет\")"
   ]
  },
  {
   "cell_type": "code",
   "execution_count": null,
   "metadata": {},
   "outputs": [],
   "source": [
    "# Посчитайте количество мужчин и женщин\n",
    "gender_counts = df['Sex'].value_counts()\n",
    "print(\"Распределение по полу:\")\n",
    "print(gender_counts)\n",
    "\n",
    "# В процентах\n",
    "gender_percentages = df['Sex'].value_counts(normalize=True) * 100\n",
    "print(\"\\nРаспределение по полу (в процентах):\")\n",
    "print(gender_percentages.round(2))"
   ]
  },
  {
   "cell_type": "code",
   "execution_count": null,
   "metadata": {},
   "outputs": [],
   "source": [
    "# Посчитайте общий процент выживших\n",
    "survival_rate = df['Survived'].mean() * 100\n",
    "print(f\"Общий процент выживших: {survival_rate:.2f}%\")\n",
    "\n",
    "# Процент выживших по полу\n",
    "survival_by_gender = df.groupby('Sex')['Survived'].mean() * 100\n",
    "print(\"\\nПроцент выживших по полу:\")\n",
    "print(survival_by_gender.round(2))"
   ]
  },
  {
   "cell_type": "markdown",
   "metadata": {},
   "source": [
    "### 3.2 Формулирование гипотез\n",
    "\n",
    "На основе полученных данных сформулируйте и проверьте простые гипотезы:\n",
    "\n",
    "**Гипотеза 1:** Женщины имели больше шансов на выживание, чем мужчины.\n",
    "\n",
    "**Ваша проверка:**"
   ]
  },
  {
   "cell_type": "code",
   "execution_count": null,
   "metadata": {},
   "outputs": [],
   "source": [
    "# Проверьте гипотезу 1\n",
    "women_survival = df[df['Sex'] == 'female']['Survived'].mean() * 100\n",
    "men_survival = df[df['Sex'] == 'male']['Survived'].mean() * 100\n",
    "\n",
    "print(f\"Процент выживших женщин: {women_survival:.2f}%\")\n",
    "print(f\"Процент выживших мужчин: {men_survival:.2f}%\")\n",
    "print(f\"Разница: {women_survival - men_survival:.2f} процентных пунктов\")\n",
    "\n",
    "if women_survival > men_survival:\n",
    "    print(\"\\nГипотеза ПОДТВЕРЖДАЕТСЯ: женщины действительно имели больше шансов на выживание.\")\n",
    "else:\n",
    "    print(\"\\nГипотеза НЕ ПОДТВЕРЖДАЕТСЯ.\")"
   ]
  },
  {
   "cell_type": "markdown",
   "metadata": {},
   "source": [
    "**Гипотеза 2:** Пассажиры первого класса имели больше шансов на выживание.\n",
    "\n",
    "**Ваша проверка:**"
   ]
  },
  {
   "cell_type": "code",
   "execution_count": null,
   "metadata": {},
   "outputs": [],
   "source": [
    "# Проверьте гипотезу 2\n",
    "survival_by_class = df.groupby('Pclass')['Survived'].mean() * 100\n",
    "print(\"Процент выживших по классам:\")\n",
    "for pclass, survival in survival_by_class.items():\n",
    "    print(f\"Класс {pclass}: {survival:.2f}%\")\n",
    "\n",
    "print(f\"\\nРазница между 1-м и 3-м классом: {survival_by_class[1] - survival_by_class[3]:.2f} процентных пунктов\")"
   ]
  },
  {
   "cell_type": "markdown",
   "metadata": {},
   "source": [
    "## Задание 4: Простая визуализация\n",
    "\n",
    "### 4.1 Гистограмма возраста"
   ]
  },
  {
   "cell_type": "code",
   "execution_count": null,
   "metadata": {},
   "outputs": [],
   "source": [
    "# Постройте гистограмму распределения возраста\n",
    "plt.figure(figsize=(10, 6))\n",
    "plt.hist(df['Age'].dropna(), bins=20, color='skyblue', alpha=0.7, edgecolor='black')\n",
    "plt.title('Распределение возраста пассажиров Титаника', fontsize=16)\n",
    "plt.xlabel('Возраст', fontsize=12)\n",
    "plt.ylabel('Количество пассажиров', fontsize=12)\n",
    "plt.grid(True, alpha=0.3)\n",
    "plt.show()\n",
    "\n",
    "print(f\"Самый молодой пассажир: {df['Age'].min()} лет\")\n",
    "print(f\"Самый старший пассажир: {df['Age'].max()} лет\")"
   ]
  },
  {
   "cell_type": "markdown",
   "metadata": {},
   "source": [
    "### 4.2 Столбчатая диаграмма выживаемости по полу"
   ]
  },
  {
   "cell_type": "code",
   "execution_count": null,
   "metadata": {},
   "outputs": [],
   "source": [
    "# Постройте столбчатую диаграмму выживаемости по полу\n",
    "survival_by_gender = df.groupby('Sex')['Survived'].mean() * 100\n",
    "\n",
    "plt.figure(figsize=(8, 6))\n",
    "bars = plt.bar(survival_by_gender.index, survival_by_gender.values, \n",
    "               color=['pink', 'lightblue'], alpha=0.7, edgecolor='black')\n",
    "plt.title('Процент выживших по полу', fontsize=16)\n",
    "plt.xlabel('Пол', fontsize=12)\n",
    "plt.ylabel('Процент выживших (%)', fontsize=12)\n",
    "plt.ylim(0, 100)\n",
    "\n",
    "# Добавим значения на столбцы\n",
    "for bar, value in zip(bars, survival_by_gender.values):\n",
    "    plt.text(bar.get_x() + bar.get_width()/2, bar.get_height() + 1, \n",
    "             f'{value:.1f}%', ha='center', va='bottom', fontsize=12)\n",
    "\n",
    "plt.grid(True, alpha=0.3)\n",
    "plt.show()"
   ]
  },
  {
   "cell_type": "markdown",
   "metadata": {},
   "source": [
    "## Рефлексия и выводы\n",
    "\n",
    "### Что было изучено:\n",
    "1. **Жизненный цикл Data Science** - как подходить к анализу данных систематически\n",
    "2. **Основы Pandas** - загрузка, просмотр и фильтрация данных\n",
    "3. **Формулирование гипотез** - как данные помогают отвечать на вопросы\n",
    "4. **Базовая визуализация** - как графики помогают понять данные\n",
    "\n",
    "### Ключевые выводы из анализа Титаника:\n",
    "1. _Запишите ваш главный вывод о выживаемости женщин и мужчин_\n",
    "\n",
    "Женщины имели больше шансов на выживание\n",
    "\n",
    "2. _Запишите ваш вывод о влиянии класса на выживаемость_\n",
    "\n",
    "Пассажиры первого класса имели больше шансов на выживание\n",
    "\n",
    "3. _Какие еще закономерности вы заметили?_\n",
    "\n",
    "Пассажиры 2 класса имели меньше шансов на выживание, чем пассажиры первого класса. А пассажиры 3 класса имели меньше всех шансов на выживание.\n",
    "\n",
    "### Вопросы для дальнейшего исследования:\n",
    "1. Влиял ли возраст на шансы выживания?\n",
    "2. Как размер семьи (количество родственников на борту) влиял на выживаемость?\n",
    "3. Были ли различия в выживаемости в зависимости от порта посадки?\n",
    "\n",
    "**Эти вопросы мы изучим в следующих лабораторных работах!**"
   ]
  },
  {
   "cell_type": "markdown",
   "metadata": {},
   "source": [
    "## Extras\n",
    "\n",
    "### Задание 5: Исследуйте связь возраста и выживаемости"
   ]
  },
  {
   "cell_type": "code",
   "execution_count": null,
   "metadata": {},
   "outputs": [],
   "source": [
    "# Создайте возрастные группы и посмотрите на выживаемость\n",
    "df['AgeGroup'] = pd.cut(df['Age'], bins=[0, 18, 35, 60, 100], \n",
    "                        labels=['Дети (0-18)', 'Молодые (18-35)', \n",
    "                               'Взрослые (35-60)', 'Пожилые (60+)'])\n",
    "\n",
    "survival_by_age = df.groupby('AgeGroup')['Survived'].mean() * 100\n",
    "print(\"Выживаемость по возрастным группам:\")\n",
    "print(survival_by_age.round(2))"
   ]
  },
  {
   "cell_type": "markdown",
   "metadata": {},
   "source": [
    "### Задание 6: Создайте свою визуализацию"
   ]
  },
  {
   "cell_type": "code",
   "execution_count": null,
   "metadata": {},
   "outputs": [],
   "source": [
    "# Попробуйте создать свой график\n",
    "# Например, выживаемость по классам\n",
    "survival_by_class = df.groupby('Pclass')['Survived'].mean() * 100\n",
    "\n",
    "plt.figure(figsize=(8, 6))\n",
    "# Ваш код здесь\n",
    "plt.show()"
   ]
  },
  {
   "cell_type": "markdown",
   "metadata": {},
   "source": [
    "Самостоятельно найдите практики разведочного анализа данных (EDA - Exploratory Data Analysis) в виде различных блоков кода на Python в различных Jupyter-ноутбуках на ресурсах типа Kaggle. Проанализируйте эти Jupyter-ноутбуки, созданные другими людьми, сопоставляя всек действия, которые там выполнены на Python, со всеми основными  шагами технологии работы с большими данными CRISP-DM (Cross-Industry Standard Process for Data Mining), изучите релевантные онлайн-статьи с подробным описанием диаграммы разработки CRISP-DM. Определите для себя на каких этапах CRISP-DM (в ходе создания вашего личного Jupyter-ноутбука по данным Титаника) может применяться разведочный анализ данных (EDA).\n",
    "\n",
    "Как правило техники анализа подразумевают также и построение разнообразных диаграмм (boxplot, bar plot, etc.) по тем или иным колонкам из той таблицы, с которой вы работаете. Разберите какие колонки (по их типам данных - числовые, категориальные (бинарные, ординальные, номинативные)) имеются в вашем датасете и подберите подходящие диаграммы для прорисовки колонок из различных данных. Ключевая деталь заколючается в том, что вы самостоятельно ищете в интернете и подбираете различные типы диаграмм по различным признакам (колонкам вашей исходной таблицы данных) таким образом, чтобы по этим диаграммам можно было сделать какие-то показательные выводы. Можно использовать различные заготовки кода на Python, сделанные в чужих Jupyter-ноутбуках на ресурсах типа Kaggle для построения различных диаграмм признаков. Основные библиотеки/фреймворки, которые надо для этого изучить - это сам pandas (для базовой работы с таблицами), matplotview, plotly, seaborn (!), bokeh (!) и так далее.\n",
    "\n",
    "Также часто можно встретить вычисление различных матриц корреляций различными способами (различные коэффициенты корреляции), проверку гипотез относительно различных колонок в таблице данных (в данном примере - данные Титаника); очистку и фильтрацию входного изначального датасета различными способами. Поищите в интернете с помо"
   ]
  }
 ],
 "metadata": {
  "kernelspec": {
   "display_name": "Python 3",
   "language": "python",
   "name": "python3"
  },
  "language_info": {
   "codemirror_mode": {
    "name": "ipython",
    "version": 3
   },
   "file_extension": ".py",
   "mimetype": "text/x-python",
   "name": "python",
   "nbconvert_exporter": "python",
   "pygments_lexer": "ipython3",
   "version": "3.8.5"
  }
 },
 "nbformat": 4,
 "nbformat_minor": 4
}
